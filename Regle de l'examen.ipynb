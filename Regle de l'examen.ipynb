{
 "cells": [
  {
   "cell_type": "markdown",
   "metadata": {},
   "source": [
    "### Examen"
   ]
  },
  {
   "cell_type": "markdown",
   "metadata": {},
   "source": [
    "**Objectif**:\n",
    "\n",
    "\n",
    "1) prendre une compétition terminée\n",
    "2) une compétition de deep learning\n",
    "3) prndre le code d'un des participants du top20\n",
    "il faut que le code soit en pytorch\n",
    "Salle V1612:03\n",
    "les attendus:\n",
    "1 repo github \n",
    "-readme: contexte de la compétition (l'objectif, les données, les difficultés, ...) \n",
    "- Notebook de code choisi, COMMENTé\n",
    "- rajouter des cellules comme pour le HelloRNN\n",
    "Salle V1612:04\n",
    "- ces cellules doivent aider à comprendre le code du participant\n",
    "###### Mixup ###### Cutmix ###### vocab ###### Arthur COLAS12:06 ##### tokenization ##### Salle V1612:06 ###### word2vec ###### glove\n",
    "##### CONCEPT #### Dans le readme, on explique aussi les parties preprocessing ##### 3-4 personne = 2 notebooks notebook du 1er qui a partagé son code en pytorch, notebook du 13e qui a aussi partagé son code en pytorch"
   ]
  }
 ],
 "metadata": {
  "kernelspec": {
   "display_name": "Python 3",
   "language": "python",
   "name": "python3"
  },
  "language_info": {
   "codemirror_mode": {
    "name": "ipython",
    "version": 3
   },
   "file_extension": ".py",
   "mimetype": "text/x-python",
   "name": "python",
   "nbconvert_exporter": "python",
   "pygments_lexer": "ipython3",
   "version": "3.8.3"
  }
 },
 "nbformat": 4,
 "nbformat_minor": 4
}
